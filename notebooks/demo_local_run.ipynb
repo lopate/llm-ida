{
 "cells": [
  {
   "cell_type": "markdown",
   "id": "d71e184d",
   "metadata": {},
   "source": [
    "# Demo: Локальный запуск скриптов для предсказания пространственно-временных рядов\n",
    "\n",
    "Ноутбук показывает, как подготовить данные, проверить интерфейсы локальных скриптов и запустить предсказание без поднятия FastAPI. Полезно для отладки и быстрого прототипирования.\n",
    "\n",
    "Цель: запускать модули и CLI-скрипты локально, генерировать тестовый датасет и проверять выходные файлы/метрики."
   ]
  },
  {
   "cell_type": "markdown",
   "id": "c930d838",
   "metadata": {},
   "source": [
    "## 1) Установка зависимостей и проверка окружения\n",
    "\n",
    "Выполните в терминале следующую проверку и установку зависимостей, если это ещё не сделано:\n",
    "\n",
    "```bash\n",
    "python --version\n",
    "pip install -r requirements.txt\n",
    "```\n",
    "\n",
    "Проверьте, что виртуальное окружение активно и переменные окружения (`HF_MODEL`, `EMBED_MODEL`, `FAISS_PATH`) установлены при необходимости."
   ]
  },
  {
   "cell_type": "code",
   "execution_count": 7,
   "id": "d336fc3b",
   "metadata": {},
   "outputs": [
    {
     "name": "stdout",
     "output_type": "stream",
     "text": [
      "python: 3.12.3 (main, Aug 14 2025, 17:47:21) [GCC 13.3.0]\n",
      "repo_root (relative): /home/sasha/llm-ida\n",
      "scripts/build_vector_db.py: False\n",
      "../app/main.py: True\n",
      "../app/model_selector.py: True\n",
      "../app/model_runner.py: True\n",
      "Imported app.model_selector\n",
      "Imported app.model_runner\n",
      "Imported app.vector_db\n"
     ]
    }
   ],
   "source": [
    "# 2) Импорт библиотек и проверка локальных скриптов\n",
    "import sys\n",
    "from pathlib import Path\n",
    "import importlib\n",
    "\n",
    "print('python:', sys.version.splitlines()[0])\n",
    "\n",
    "# Проверяем, что основная директория проекта доступна\n",
    "repo_root = Path('..').resolve()\n",
    "print('repo_root (relative):', repo_root)\n",
    "\n",
    "# Files we expect (adjust names if your project uses different filenames)\n",
    "expected = ['scripts/build_vector_db.py', '../app/main.py', '../app/model_selector.py', '../app/model_runner.py']\n",
    "for p in expected:\n",
    "    exists = Path(p).exists()\n",
    "    print(f\"{p}: {exists}\")\n",
    "\n",
    "# Quick import checks (non-fatal)\n",
    "for mod in ['app.model_selector', 'app.model_runner', 'app.vector_db']:\n",
    "    try:\n",
    "        importlib.import_module(mod)\n",
    "        print(f\"Imported {mod}\")\n",
    "    except Exception as e:\n",
    "        print(f\"Failed to import {mod}: {e}\")\n"
   ]
  },
  {
   "cell_type": "markdown",
   "id": "9c480a6b",
   "metadata": {},
   "source": [
    "## 3) Генерация синтетического пространственно‑временного датасета\n",
    "\n",
    "Создадим небольшой синтетический датасет: X с формой (T, N, F). T=50 временных шагов, N=8 локаций, F=1 признак (например, интенсивность). Добавим синусоиды с пространственным градиентом и шум."
   ]
  },
  {
   "cell_type": "code",
   "execution_count": 2,
   "id": "9f04bd84",
   "metadata": {},
   "outputs": [
    {
     "name": "stdout",
     "output_type": "stream",
     "text": [
      "Saved demo_in.npz with X shape (50, 8, 1)\n",
      "Saved demo_in.json (first 10 timesteps)\n"
     ]
    }
   ],
   "source": [
    "import numpy as np\n",
    "import json\n",
    "\n",
    "# parameters\n",
    "T = 50\n",
    "N = 8\n",
    "F = 1\n",
    "\n",
    "x = np.linspace(0, 2 * np.pi, T)\n",
    "X = np.zeros((T, N, F), dtype=np.float32)\n",
    "for n in range(N):\n",
    "    phase = n * 0.3\n",
    "    X[:, n, 0] = np.sin(x + phase) + 0.1 * n + 0.2 * np.random.randn(T)\n",
    "\n",
    "meta = {\"nodes\": list(range(N)), \"freq\": \"synthetic\"}\n",
    "np.savez('demo_in.npz', X=X, meta=meta)\n",
    "print('Saved demo_in.npz with X shape', X.shape)\n",
    "\n",
    "# small JSON dump usable for small tests (not recommended for big arrays)\n",
    "with open('demo_in.json', 'w', encoding='utf-8') as f:\n",
    "    json.dump({'X': X[:10].tolist(), 'meta': meta}, f)\n",
    "print('Saved demo_in.json (first 10 timesteps)')\n"
   ]
  },
  {
   "cell_type": "markdown",
   "id": "28a19f89",
   "metadata": {},
   "source": [
    "## 4) Примеры задач и форматы входных данных\n",
    "\n",
    "Форматы входных данных, которые поддерживаются/рекомендуются:\n",
    "\n",
    "- NPZ/NPY: массивы numpy (рекомендуется для больших объёмов): `np.savez('in.npz', X=X, meta=meta)`\n",
    "- CSV: табличный формат (time, node, feat1,...,target)\n",
    "- JSON: для небольших payload'ов (вложенные списки)\n",
    "\n",
    "Примеры задач:\n",
    "- Одношаговое прогнозирование (h=1)\n",
    "- Мультишаговое (h>1)\n",
    "- Заполнение пропусков (imputation)\n",
    "\n",
    "Пример JSON-payload (одно наблюдение):\n",
    "\n",
    "```json\n",
    "{\n",
    "  \"meta\": {\"nodes\": [0,1,2]},\n",
    "  \"X\": [[[0.1],[0.2]], [[0.15],[0.25]]]\n",
    "}\n",
    "```"
   ]
  },
  {
   "cell_type": "markdown",
   "id": "f290da41",
   "metadata": {},
   "source": [
    "## 5) Подготовка payload (JSON / NPZ) для локального запуска\n",
    "\n",
    "Мы уже сохранили `demo_in.npz` и `demo_in.json`. Для снижения размера используйте `float32` и при необходимости сжимайте архив (например, `np.savez_compressed`).\n",
    "\n",
    "Примеры сериализации данных в JSON (маленькие объёмы):\n",
    "\n",
    "```python\n",
    "with open('demo_in.json','w') as f:\n",
    "    json.dump({'X': X[:10].tolist(), 'meta': meta}, f)\n",
    "```"
   ]
  },
  {
   "cell_type": "markdown",
   "id": "9055147d",
   "metadata": {},
   "source": [
    "## 6) Проверка интерфейсов локальных скриптов (signature checks)\n",
    "\n",
    "Попробуем импортировать примерную функцию `predict` из `app.model_runner` или скрипта `predict.py` (если он есть). Код ниже вызывает `run_model` из `app.model_runner` с небольшим фрагментом данных и ловит исключения."
   ]
  },
  {
   "cell_type": "code",
   "execution_count": 9,
   "id": "4ee17e4c",
   "metadata": {},
   "outputs": [
    {
     "name": "stdout",
     "output_type": "stream",
     "text": [
      "Found app.model_runner, run_model exists: True\n",
      "run_model returned code length: 200\n",
      "predictions (first lines):\n",
      "   horizon,forecast\n",
      "   1,1.1157123848795891\n",
      "   2,1.1157123848795891\n",
      "   3,1.1157123848795891\n"
     ]
    }
   ],
   "source": [
    "from importlib import import_module\n",
    "import io, csv\n",
    "\n",
    "# Try to use the project's model_runner API\n",
    "try:\n",
    "    mr = import_module('app.model_runner')\n",
    "    print('Found app.model_runner, run_model exists:', hasattr(mr, 'run_model'))\n",
    "    # use a tiny slice\n",
    "    sample = X[:5]\n",
    "    # if sample is ndarray, convert to a simple CSV with columns (t,node,value)\n",
    "    if hasattr(sample, 'shape'):\n",
    "        buf = io.StringIO()\n",
    "        writer = csv.writer(buf)\n",
    "        writer.writerow(['t', 'node', 'value'])\n",
    "        T_s = sample.shape[0]\n",
    "        N_s = sample.shape[1]\n",
    "        for t in range(T_s):\n",
    "            for n in range(N_s):\n",
    "                v = float(sample[t, n, 0])\n",
    "                writer.writerow([t, n, v])\n",
    "        csv_text = buf.getvalue()\n",
    "    else:\n",
    "        # assume it's already a CSV-like string\n",
    "        csv_text = sample\n",
    "\n",
    "    try:\n",
    "        code, predictions = mr.run_model('sktime', csv_text)\n",
    "        print('run_model returned code length:', len(code))\n",
    "        print('predictions (first lines):')\n",
    "        for l in predictions.splitlines()[:8]:\n",
    "            print('  ', l)\n",
    "    except Exception as e:\n",
    "        print('run_model call failed (this may be OK if backend libs missing):', type(e).__name__, e)\n",
    "except Exception as e:\n",
    "    print('Could not import app.model_runner:', e)\n"
   ]
  },
  {
   "cell_type": "markdown",
   "id": "90ea3c79",
   "metadata": {},
   "source": [
    "## 7) Запуск скрипта предсказания через subprocess и сбор вывода\n",
    "\n",
    "Ниже шаблон для запуска CLI-скрипта `predict.py` или любого скрипта, который реализует интерфейс `--input/--output`. Скрипт в проекте может называться иначе — отредактируйте путь при необходимости."
   ]
  },
  {
   "cell_type": "code",
   "execution_count": 10,
   "id": "2d9b5391",
   "metadata": {},
   "outputs": [
    {
     "name": "stdout",
     "output_type": "stream",
     "text": [
      "predict.py not found; skip subprocess run\n"
     ]
    }
   ],
   "source": [
    "import subprocess\n",
    "\n",
    "script = 'predict.py'  # change if your project's script has another name\n",
    "if Path(script).exists():\n",
    "    cmd = ['python3', script, '--input', 'demo_in.npz', '--output', 'demo_out.npz']\n",
    "    print('Running:', ' '.join(cmd))\n",
    "    try:\n",
    "        r = subprocess.run(cmd, capture_output=True, text=True, timeout=30)\n",
    "        print('returncode:', r.returncode)\n",
    "        print('stdout:\\n', r.stdout[:1000])\n",
    "        print('stderr:\\n', r.stderr[:1000])\n",
    "    except subprocess.TimeoutExpired:\n",
    "        print('Process timed out')\n",
    "else:\n",
    "    print(script, 'not found; skip subprocess run')\n"
   ]
  },
  {
   "cell_type": "markdown",
   "id": "314e3356",
   "metadata": {},
   "source": [
    "## 8) Валидация формата выходных данных и вычисление метрик\n",
    "\n",
    "Пример проверки выходного NPZ и вычисления RMSE/MAE."
   ]
  },
  {
   "cell_type": "code",
   "execution_count": 5,
   "id": "a34d33c1",
   "metadata": {},
   "outputs": [
    {
     "name": "stdout",
     "output_type": "stream",
     "text": [
      "demo_out.npz not found; skip validation\n"
     ]
    }
   ],
   "source": [
    "import math\n",
    "import numpy as np\n",
    "\n",
    "def rmse(a, b):\n",
    "    return math.sqrt(np.mean((a - b) ** 2))\n",
    "\n",
    "def mae(a, b):\n",
    "    return float(np.mean(np.abs(a - b)))\n",
    "\n",
    "out_path = Path('demo_out.npz')\n",
    "if out_path.exists():\n",
    "    arr = np.load(out_path, allow_pickle=True)\n",
    "    y_pred = arr.get('y_pred') if 'y_pred' in arr else None\n",
    "    print('y_pred keys in archive:', list(arr.keys()))\n",
    "    if y_pred is not None:\n",
    "        print('y_pred shape:', y_pred.shape)\n",
    "        # compare small slice if truth exists\n",
    "        if 'X' in locals():\n",
    "            truth = X[:y_pred.shape[0]]\n",
    "            print('RMSE:', rmse(truth, y_pred))\n",
    "else:\n",
    "    print('demo_out.npz not found; skip validation')\n"
   ]
  },
  {
   "cell_type": "markdown",
   "id": "2ac13af6",
   "metadata": {},
   "source": [
    "## 9) Визуализация входа/выхода по пространству и времени\n",
    "\n",
    "Примеры: временной ряд для узла 0, тепловая карта ошибок."
   ]
  },
  {
   "cell_type": "code",
   "execution_count": null,
   "id": "7c252072",
   "metadata": {},
   "outputs": [],
   "source": [
    "import matplotlib.pyplot as plt\n",
    "import seaborn as sns\n",
    "\n",
    "# plot a time series for node 0\n",
    "if 'X' in globals():\n",
    "    plt.figure(figsize=(8,3))\n",
    "    plt.plot(X[:,0,0], label='node0')\n",
    "    plt.title('Node 0 timeseries')\n",
    "    plt.legend()\n",
    "    plt.show()\n",
    "\n",
    "# if prediction present, heatmap errors over time and nodes\n",
    "if out_path.exists() and 'y_pred' in locals() and y_pred is not None:\n",
    "    # compute error matrix (T,N)\n",
    "    err = np.mean((truth - y_pred) ** 2, axis=2) if truth.shape == y_pred.shape else None\n",
    "    if err is not None:\n",
    "        plt.figure(figsize=(8,4))\n",
    "        sns.heatmap(err.T, cmap='magma')\n",
    "        plt.title('MSE over time (rows=time, cols=node)')\n",
    "        plt.show()\n",
    "else:\n",
    "    print('Prediction not available for heatmap')\n"
   ]
  },
  {
   "cell_type": "markdown",
   "id": "1141477e",
   "metadata": {},
   "source": [
    "## 10) Отладка: логи, режимы --debug и распространённые ошибки\n",
    "\n",
    "- Используйте `--debug` и `LOG_LEVEL=DEBUG` если скрипт поддерживает.\n",
    "- Частые ошибки: mismatch shapes, wrong dtype (float64 vs float32), отсутствие обязательных ключей в NPZ/JSON.\n",
    "- Добавляйте assert-ы на границах функций, и логирование форм входов/выходов."
   ]
  },
  {
   "cell_type": "markdown",
   "id": "6bbd0e52",
   "metadata": {},
   "source": [
    "## 11) Запуск unit-тестов и использование pytest в VSCode\n",
    "\n",
    "Запускайте отдельные тесты для predict:\n",
    "\n",
    "```bash\n",
    "pytest -q tests/test_predict.py::test_predict_small\n",
    "```\n",
    "\n",
    "В VSCode: используйте Test Explorer, настройте интерпретатор и запустите/отлаживайте тесты прямо из IDE."
   ]
  },
  {
   "cell_type": "markdown",
   "id": "fed2c52f",
   "metadata": {},
   "source": [
    "## 12) Интеграция с VSCode: breakpoints и Output Pane\n",
    "\n",
    "- Откройте `predict.py` или `app/model_runner.py` в редакторе, поставьте breakpoint и используйте `Run > Start Debugging`.\n",
    "- В интегрированном терминале запускайте скрипты и смотрите Output Pane для stdout/stderr.\n",
    "- Если используете `python -m pdb` — удобно для пошаговой отладки в терминале."
   ]
  },
  {
   "cell_type": "markdown",
   "id": "c306b6e8",
   "metadata": {},
   "source": [
    "## 13) Сценарии восстановления: таймауты, сериализация, несоответствие форматов\n",
    "\n",
    "- Если subprocess падает с таймаутом — увеличьте `timeout` и запустите локально в терминале для диагностики.\n",
    "- При ошибках сериализации — проверьте dtype и используйте `np.savez_compressed` или уменьшите размер перед сохранением в JSON.\n",
    "- Для несоответствия форматов используйте `np.transpose` и печать форм `print(arr.shape)` на границах."
   ]
  },
  {
   "cell_type": "code",
   "execution_count": null,
   "id": "48f19fde",
   "metadata": {
    "vscode": {
     "languageId": "json"
    }
   },
   "outputs": [],
   "source": [
    "{\n",
    "  \"cell_type\": \"markdown\",\n",
    "  \"metadata\": {\n",
    "    \"language\": \"markdown\"\n",
    "  },\n",
    "  \"source\": [\n",
    "    \"## TinyLlama smoke-test\\n\",\n",
    "    \"\\n\",\n",
    "    \"This test loads the `TinyLlama/TinyLlama_v1.1` model via the Hugging Face `transformers` pipeline and runs the `select_model` function from `app.llm`.\\n\",\n",
    "    \"It demonstrates: \\n\",\n",
    "    \"- activating the project's `.venv`,\\n\",\n",
    "    \"- setting the `HF_MODEL` environment variable to `TinyLlama/TinyLlama_v1.1`,\\n\",\n",
    "    \"- invoking `select_model(...)` with a sample dataset description, and\\n\",\n",
    "    \"- printing the model's JSON response (or the fallback outcome).\\n\",\n",
    "    \"\\n\",\n",
    "    \"Run this cell to reproduce the quick smoke-test used during development.\"\n",
    "  ]\n",
    "}\n"
   ]
  },
  {
   "cell_type": "code",
   "execution_count": 2,
   "id": "9e9d9bba",
   "metadata": {},
   "outputs": [
    {
     "name": "stdout",
     "output_type": "stream",
     "text": [
      "HF_MODEL= TinyLlama/TinyLlama_v1.1\n"
     ]
    },
    {
     "name": "stderr",
     "output_type": "stream",
     "text": [
      "Device set to use cpu\n",
      "The following generation flags are not valid and may be ignored: ['temperature']. Set `TRANSFORMERS_VERBOSITY=info` for more details.\n",
      "The following generation flags are not valid and may be ignored: ['temperature']. Set `TRANSFORMERS_VERBOSITY=info` for more details.\n"
     ]
    },
    {
     "name": "stdout",
     "output_type": "stream",
     "text": [
      "select_model -> {'model_choice': 'pysteps', 'library': 'pysteps', 'rationale': 'pysteps is the most accurate model for this dataset', 'confidence': 1}\n"
     ]
    }
   ],
   "source": [
    "# TinyLlama smoke-test (direct Python)\\n# This cell imports `app.llm` directly from the repo, sets HF_MODEL, and calls select_model.\n",
    "import os\n",
    "import sys\n",
    "from pathlib import Path\n",
    "# Ensure repo root is on sys.path (not required if package installed editable)\n",
    "repo_root = Path('.').resolve()\n",
    "if str(repo_root) not in sys.path:    \n",
    "    sys.path.insert(0, str(repo_root))\n",
    "# Set the HF_MODEL for this test\n",
    "os.environ['HF_MODEL'] = 'TinyLlama/TinyLlama_v1.1'\n",
    "# Import and run the select_model function\n",
    "import importlib\n",
    "m = importlib.import_module('app.llm')\n",
    "importlib.reload(m)\n",
    "print('HF_MODEL=', m.HF_MODEL)\n",
    "res = m.select_model('short timeseries from sensor network', 'forecast', ['pysteps','sktime','tslearn','torch_geometric'])\n",
    "print('select_model ->', res)"
   ]
  }
 ],
 "metadata": {
  "kernelspec": {
   "display_name": ".venv (3.12.3)",
   "language": "python",
   "name": "python3"
  },
  "language_info": {
   "codemirror_mode": {
    "name": "ipython",
    "version": 3
   },
   "file_extension": ".py",
   "mimetype": "text/x-python",
   "name": "python",
   "nbconvert_exporter": "python",
   "pygments_lexer": "ipython3",
   "version": "3.12.3"
  }
 },
 "nbformat": 4,
 "nbformat_minor": 5
}
